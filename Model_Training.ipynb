{
 "cells": [
  {
   "cell_type": "code",
   "execution_count": 81,
   "metadata": {
    "id": "We9exvVpLveu"
   },
   "outputs": [],
   "source": [
    "import pandas as pd\n",
    "import numpy as np\n",
    "from sklearn.model_selection import train_test_split\n",
    "from sklearn.preprocessing import LabelEncoder, StandardScaler, MinMaxScaler\n",
    "from keras.models import Sequential, Model\n",
    "from keras.layers import Embedding, LSTM, Dense, Input, concatenate, Dropout\n",
    "from keras.preprocessing.text import Tokenizer\n",
    "from keras.utils import pad_sequences\n",
    "from keras import regularizers\n",
    "from keras.models import load_model\n",
    "import tensorflow as tf"
   ]
  },
  {
   "cell_type": "markdown",
   "metadata": {
    "id": "lHzm5vbAgoTF"
   },
   "source": [
    "### **Reading Data**"
   ]
  },
  {
   "cell_type": "code",
   "execution_count": 113,
   "metadata": {
    "colab": {
     "base_uri": "https://localhost:8080/",
     "height": 634
    },
    "id": "3wRSydUZMU4f",
    "outputId": "e55f62c4-4b57-41f6-e80e-21c5f823fed5"
   },
   "outputs": [
    {
     "name": "stderr",
     "output_type": "stream",
     "text": [
      "<ipython-input-113-2b643a1dc0be>:1: DtypeWarning: Columns (6,12,13,14,15,16,17) have mixed types. Specify dtype option on import or set low_memory=False.\n",
      "  df = pd.read_csv(\"train.csv\", encoding='latin-1')\n"
     ]
    },
    {
     "data": {
      "text/html": [
       "\n",
       "\n",
       "  <div id=\"df-bba2d2da-5972-4ec5-9dc7-fe8a2ef5c512\">\n",
       "    <div class=\"colab-df-container\">\n",
       "      <div>\n",
       "<style scoped>\n",
       "    .dataframe tbody tr th:only-of-type {\n",
       "        vertical-align: middle;\n",
       "    }\n",
       "\n",
       "    .dataframe tbody tr th {\n",
       "        vertical-align: top;\n",
       "    }\n",
       "\n",
       "    .dataframe thead th {\n",
       "        text-align: right;\n",
       "    }\n",
       "</style>\n",
       "<table border=\"1\" class=\"dataframe\">\n",
       "  <thead>\n",
       "    <tr style=\"text-align: right;\">\n",
       "      <th></th>\n",
       "      <th>user_name</th>\n",
       "      <th>country</th>\n",
       "      <th>review_title</th>\n",
       "      <th>review_description</th>\n",
       "      <th>designation</th>\n",
       "      <th>points</th>\n",
       "      <th>price</th>\n",
       "      <th>province</th>\n",
       "      <th>region_1</th>\n",
       "      <th>region_2</th>\n",
       "      <th>winery</th>\n",
       "      <th>variety</th>\n",
       "      <th>Unnamed: 12</th>\n",
       "      <th>Unnamed: 13</th>\n",
       "      <th>Unnamed: 14</th>\n",
       "      <th>Unnamed: 15</th>\n",
       "      <th>Unnamed: 16</th>\n",
       "      <th>Unnamed: 17</th>\n",
       "    </tr>\n",
       "  </thead>\n",
       "  <tbody>\n",
       "    <tr>\n",
       "      <th>0</th>\n",
       "      <td>NaN</td>\n",
       "      <td>Australia</td>\n",
       "      <td>Andrew Peace 2007 Peace Family Vineyard Chardo...</td>\n",
       "      <td>Classic Chardonnay aromas of apple, pear and h...</td>\n",
       "      <td>Peace Family Vineyard</td>\n",
       "      <td>83</td>\n",
       "      <td>10</td>\n",
       "      <td>Australia Other</td>\n",
       "      <td>South Eastern Australia</td>\n",
       "      <td>NaN</td>\n",
       "      <td>Andrew Peace</td>\n",
       "      <td>Chardonnay</td>\n",
       "      <td>NaN</td>\n",
       "      <td>NaN</td>\n",
       "      <td>NaN</td>\n",
       "      <td>NaN</td>\n",
       "      <td>NaN</td>\n",
       "      <td>NaN</td>\n",
       "    </tr>\n",
       "    <tr>\n",
       "      <th>1</th>\n",
       "      <td>@wawinereport</td>\n",
       "      <td>US</td>\n",
       "      <td>North by Northwest 2014 Red (Columbia Valley (...</td>\n",
       "      <td>This wine is near equal parts Syrah and Merlot...</td>\n",
       "      <td>NaN</td>\n",
       "      <td>89</td>\n",
       "      <td>15</td>\n",
       "      <td>Washington</td>\n",
       "      <td>Columbia Valley (WA)</td>\n",
       "      <td>Columbia Valley</td>\n",
       "      <td>North by Northwest</td>\n",
       "      <td>Red Blend</td>\n",
       "      <td>NaN</td>\n",
       "      <td>NaN</td>\n",
       "      <td>NaN</td>\n",
       "      <td>NaN</td>\n",
       "      <td>NaN</td>\n",
       "      <td>NaN</td>\n",
       "    </tr>\n",
       "    <tr>\n",
       "      <th>2</th>\n",
       "      <td>NaN</td>\n",
       "      <td>Italy</td>\n",
       "      <td>Renato Ratti 2007 Conca  (Barolo)</td>\n",
       "      <td>Barolo Conca opens with inky dark concentratio...</td>\n",
       "      <td>Conca</td>\n",
       "      <td>94</td>\n",
       "      <td>80</td>\n",
       "      <td>Piedmont</td>\n",
       "      <td>Barolo</td>\n",
       "      <td>NaN</td>\n",
       "      <td>Renato Ratti</td>\n",
       "      <td>Nebbiolo</td>\n",
       "      <td>NaN</td>\n",
       "      <td>NaN</td>\n",
       "      <td>NaN</td>\n",
       "      <td>NaN</td>\n",
       "      <td>NaN</td>\n",
       "      <td>NaN</td>\n",
       "    </tr>\n",
       "    <tr>\n",
       "      <th>3</th>\n",
       "      <td>@vossroger</td>\n",
       "      <td>France</td>\n",
       "      <td>Domaine l'Ancienne Cure 2010 L'Abbaye White (B...</td>\n",
       "      <td>It's impressive what a small addition of Sauvi...</td>\n",
       "      <td>L'Abbaye</td>\n",
       "      <td>87</td>\n",
       "      <td>22</td>\n",
       "      <td>Southwest France</td>\n",
       "      <td>Bergerac Sec</td>\n",
       "      <td>NaN</td>\n",
       "      <td>Domaine l'Ancienne Cure</td>\n",
       "      <td>Bordeaux-style White Blend</td>\n",
       "      <td>NaN</td>\n",
       "      <td>NaN</td>\n",
       "      <td>NaN</td>\n",
       "      <td>NaN</td>\n",
       "      <td>NaN</td>\n",
       "      <td>NaN</td>\n",
       "    </tr>\n",
       "    <tr>\n",
       "      <th>4</th>\n",
       "      <td>@vossroger</td>\n",
       "      <td>France</td>\n",
       "      <td>Château du Cèdre 2012 Le Cèdre Vintage Malbec ...</td>\n",
       "      <td>This ripe, sweet wine is rich and full of drie...</td>\n",
       "      <td>Le Cèdre Vintage</td>\n",
       "      <td>88</td>\n",
       "      <td>33</td>\n",
       "      <td>France Other</td>\n",
       "      <td>Vin de Liqueur</td>\n",
       "      <td>NaN</td>\n",
       "      <td>Château du Cèdre</td>\n",
       "      <td>Malbec</td>\n",
       "      <td>NaN</td>\n",
       "      <td>NaN</td>\n",
       "      <td>NaN</td>\n",
       "      <td>NaN</td>\n",
       "      <td>NaN</td>\n",
       "      <td>NaN</td>\n",
       "    </tr>\n",
       "  </tbody>\n",
       "</table>\n",
       "</div>\n",
       "      <button class=\"colab-df-convert\" onclick=\"convertToInteractive('df-bba2d2da-5972-4ec5-9dc7-fe8a2ef5c512')\"\n",
       "              title=\"Convert this dataframe to an interactive table.\"\n",
       "              style=\"display:none;\">\n",
       "\n",
       "  <svg xmlns=\"http://www.w3.org/2000/svg\" height=\"24px\"viewBox=\"0 0 24 24\"\n",
       "       width=\"24px\">\n",
       "    <path d=\"M0 0h24v24H0V0z\" fill=\"none\"/>\n",
       "    <path d=\"M18.56 5.44l.94 2.06.94-2.06 2.06-.94-2.06-.94-.94-2.06-.94 2.06-2.06.94zm-11 1L8.5 8.5l.94-2.06 2.06-.94-2.06-.94L8.5 2.5l-.94 2.06-2.06.94zm10 10l.94 2.06.94-2.06 2.06-.94-2.06-.94-.94-2.06-.94 2.06-2.06.94z\"/><path d=\"M17.41 7.96l-1.37-1.37c-.4-.4-.92-.59-1.43-.59-.52 0-1.04.2-1.43.59L10.3 9.45l-7.72 7.72c-.78.78-.78 2.05 0 2.83L4 21.41c.39.39.9.59 1.41.59.51 0 1.02-.2 1.41-.59l7.78-7.78 2.81-2.81c.8-.78.8-2.07 0-2.86zM5.41 20L4 18.59l7.72-7.72 1.47 1.35L5.41 20z\"/>\n",
       "  </svg>\n",
       "      </button>\n",
       "\n",
       "\n",
       "\n",
       "    <div id=\"df-8539ef78-203b-4fd3-94fc-3c4f2d48c653\">\n",
       "      <button class=\"colab-df-quickchart\" onclick=\"quickchart('df-8539ef78-203b-4fd3-94fc-3c4f2d48c653')\"\n",
       "              title=\"Suggest charts.\"\n",
       "              style=\"display:none;\">\n",
       "\n",
       "<svg xmlns=\"http://www.w3.org/2000/svg\" height=\"24px\"viewBox=\"0 0 24 24\"\n",
       "     width=\"24px\">\n",
       "    <g>\n",
       "        <path d=\"M19 3H5c-1.1 0-2 .9-2 2v14c0 1.1.9 2 2 2h14c1.1 0 2-.9 2-2V5c0-1.1-.9-2-2-2zM9 17H7v-7h2v7zm4 0h-2V7h2v10zm4 0h-2v-4h2v4z\"/>\n",
       "    </g>\n",
       "</svg>\n",
       "      </button>\n",
       "    </div>\n",
       "\n",
       "<style>\n",
       "  .colab-df-quickchart {\n",
       "    background-color: #E8F0FE;\n",
       "    border: none;\n",
       "    border-radius: 50%;\n",
       "    cursor: pointer;\n",
       "    display: none;\n",
       "    fill: #1967D2;\n",
       "    height: 32px;\n",
       "    padding: 0 0 0 0;\n",
       "    width: 32px;\n",
       "  }\n",
       "\n",
       "  .colab-df-quickchart:hover {\n",
       "    background-color: #E2EBFA;\n",
       "    box-shadow: 0px 1px 2px rgba(60, 64, 67, 0.3), 0px 1px 3px 1px rgba(60, 64, 67, 0.15);\n",
       "    fill: #174EA6;\n",
       "  }\n",
       "\n",
       "  [theme=dark] .colab-df-quickchart {\n",
       "    background-color: #3B4455;\n",
       "    fill: #D2E3FC;\n",
       "  }\n",
       "\n",
       "  [theme=dark] .colab-df-quickchart:hover {\n",
       "    background-color: #434B5C;\n",
       "    box-shadow: 0px 1px 3px 1px rgba(0, 0, 0, 0.15);\n",
       "    filter: drop-shadow(0px 1px 2px rgba(0, 0, 0, 0.3));\n",
       "    fill: #FFFFFF;\n",
       "  }\n",
       "</style>\n",
       "\n",
       "    <script>\n",
       "      async function quickchart(key) {\n",
       "        const containerElement = document.querySelector('#' + key);\n",
       "        const charts = await google.colab.kernel.invokeFunction(\n",
       "            'suggestCharts', [key], {});\n",
       "      }\n",
       "    </script>\n",
       "\n",
       "      <script>\n",
       "\n",
       "function displayQuickchartButton(domScope) {\n",
       "  let quickchartButtonEl =\n",
       "    domScope.querySelector('#df-8539ef78-203b-4fd3-94fc-3c4f2d48c653 button.colab-df-quickchart');\n",
       "  quickchartButtonEl.style.display =\n",
       "    google.colab.kernel.accessAllowed ? 'block' : 'none';\n",
       "}\n",
       "\n",
       "        displayQuickchartButton(document);\n",
       "      </script>\n",
       "      <style>\n",
       "    .colab-df-container {\n",
       "      display:flex;\n",
       "      flex-wrap:wrap;\n",
       "      gap: 12px;\n",
       "    }\n",
       "\n",
       "    .colab-df-convert {\n",
       "      background-color: #E8F0FE;\n",
       "      border: none;\n",
       "      border-radius: 50%;\n",
       "      cursor: pointer;\n",
       "      display: none;\n",
       "      fill: #1967D2;\n",
       "      height: 32px;\n",
       "      padding: 0 0 0 0;\n",
       "      width: 32px;\n",
       "    }\n",
       "\n",
       "    .colab-df-convert:hover {\n",
       "      background-color: #E2EBFA;\n",
       "      box-shadow: 0px 1px 2px rgba(60, 64, 67, 0.3), 0px 1px 3px 1px rgba(60, 64, 67, 0.15);\n",
       "      fill: #174EA6;\n",
       "    }\n",
       "\n",
       "    [theme=dark] .colab-df-convert {\n",
       "      background-color: #3B4455;\n",
       "      fill: #D2E3FC;\n",
       "    }\n",
       "\n",
       "    [theme=dark] .colab-df-convert:hover {\n",
       "      background-color: #434B5C;\n",
       "      box-shadow: 0px 1px 3px 1px rgba(0, 0, 0, 0.15);\n",
       "      filter: drop-shadow(0px 1px 2px rgba(0, 0, 0, 0.3));\n",
       "      fill: #FFFFFF;\n",
       "    }\n",
       "  </style>\n",
       "\n",
       "      <script>\n",
       "        const buttonEl =\n",
       "          document.querySelector('#df-bba2d2da-5972-4ec5-9dc7-fe8a2ef5c512 button.colab-df-convert');\n",
       "        buttonEl.style.display =\n",
       "          google.colab.kernel.accessAllowed ? 'block' : 'none';\n",
       "\n",
       "        async function convertToInteractive(key) {\n",
       "          const element = document.querySelector('#df-bba2d2da-5972-4ec5-9dc7-fe8a2ef5c512');\n",
       "          const dataTable =\n",
       "            await google.colab.kernel.invokeFunction('convertToInteractive',\n",
       "                                                     [key], {});\n",
       "          if (!dataTable) return;\n",
       "\n",
       "          const docLinkHtml = 'Like what you see? Visit the ' +\n",
       "            '<a target=\"_blank\" href=https://colab.research.google.com/notebooks/data_table.ipynb>data table notebook</a>'\n",
       "            + ' to learn more about interactive tables.';\n",
       "          element.innerHTML = '';\n",
       "          dataTable['output_type'] = 'display_data';\n",
       "          await google.colab.output.renderOutput(dataTable, element);\n",
       "          const docLink = document.createElement('div');\n",
       "          docLink.innerHTML = docLinkHtml;\n",
       "          element.appendChild(docLink);\n",
       "        }\n",
       "      </script>\n",
       "    </div>\n",
       "  </div>\n"
      ],
      "text/plain": [
       "       user_name    country  \\\n",
       "0            NaN  Australia   \n",
       "1  @wawinereport         US   \n",
       "2            NaN      Italy   \n",
       "3     @vossroger     France   \n",
       "4     @vossroger     France   \n",
       "\n",
       "                                        review_title  \\\n",
       "0  Andrew Peace 2007 Peace Family Vineyard Chardo...   \n",
       "1  North by Northwest 2014 Red (Columbia Valley (...   \n",
       "2                  Renato Ratti 2007 Conca  (Barolo)   \n",
       "3  Domaine l'Ancienne Cure 2010 L'Abbaye White (B...   \n",
       "4  Château du Cèdre 2012 Le Cèdre Vintage Malbec ...   \n",
       "\n",
       "                                  review_description            designation  \\\n",
       "0  Classic Chardonnay aromas of apple, pear and h...  Peace Family Vineyard   \n",
       "1  This wine is near equal parts Syrah and Merlot...                    NaN   \n",
       "2  Barolo Conca opens with inky dark concentratio...                  Conca   \n",
       "3  It's impressive what a small addition of Sauvi...               L'Abbaye   \n",
       "4  This ripe, sweet wine is rich and full of drie...       Le Cèdre Vintage   \n",
       "\n",
       "  points price          province                 region_1         region_2  \\\n",
       "0     83    10   Australia Other  South Eastern Australia              NaN   \n",
       "1     89    15        Washington     Columbia Valley (WA)  Columbia Valley   \n",
       "2     94    80          Piedmont                   Barolo              NaN   \n",
       "3     87    22  Southwest France             Bergerac Sec              NaN   \n",
       "4     88    33      France Other           Vin de Liqueur              NaN   \n",
       "\n",
       "                    winery                     variety Unnamed: 12  \\\n",
       "0             Andrew Peace                  Chardonnay         NaN   \n",
       "1       North by Northwest                   Red Blend         NaN   \n",
       "2             Renato Ratti                    Nebbiolo         NaN   \n",
       "3  Domaine l'Ancienne Cure  Bordeaux-style White Blend         NaN   \n",
       "4         Château du Cèdre                      Malbec         NaN   \n",
       "\n",
       "  Unnamed: 13 Unnamed: 14 Unnamed: 15 Unnamed: 16 Unnamed: 17  \n",
       "0         NaN         NaN         NaN         NaN         NaN  \n",
       "1         NaN         NaN         NaN         NaN         NaN  \n",
       "2         NaN         NaN         NaN         NaN         NaN  \n",
       "3         NaN         NaN         NaN         NaN         NaN  \n",
       "4         NaN         NaN         NaN         NaN         NaN  "
      ]
     },
     "execution_count": 113,
     "metadata": {},
     "output_type": "execute_result"
    }
   ],
   "source": [
    "df = pd.read_csv(\"train.csv\", encoding='latin-1')\n",
    "df.head()"
   ]
  },
  {
   "cell_type": "markdown",
   "metadata": {
    "id": "Ap5vSR7mOEim"
   },
   "source": [
    "### **Cleaning the data**"
   ]
  },
  {
   "cell_type": "code",
   "execution_count": 110,
   "metadata": {
    "id": "iWqk7I7Qx3ly"
   },
   "outputs": [],
   "source": [
    "def cleaning(df):\n",
    "  try:\n",
    "    i = 0\n",
    "    for x in df[\"Unnamed: 12\"].isna():\n",
    "        if not x:\n",
    "            df = df.drop(i)\n",
    "        i += 1\n",
    "\n",
    "    df = df.iloc[:, :12]\n",
    "    df = df.dropna(subset=['winery'])\n",
    "  except:\n",
    "    pass\n",
    "\n",
    "  df = df.drop([\"user_name\", \"designation\", \"province\", \"region_1\", \"region_2\", \"winery\"], axis=1)\n",
    "\n",
    "  df['price'] = pd.to_numeric(df['price'], errors='coerce')\n",
    "  df['price'] = df['price'].astype(float)\n",
    "\n",
    "  df['points'] = pd.to_numeric(df['points'], errors='coerce')\n",
    "  df['points'] = df['points'].astype(float)\n",
    "\n",
    "  df['country'].fillna(df['country'].mode()[0], inplace=True)\n",
    "  df['price'].fillna(df['price'].mean(), inplace=True)\n",
    "  df['points'].fillna(df['points'].mean(), inplace=True)\n",
    "\n",
    "  return df\n",
    "\n",
    "df = cleaning(df)"
   ]
  },
  {
   "cell_type": "markdown",
   "metadata": {
    "id": "xDZ-o0OjORJM"
   },
   "source": [
    "### **Feature Engineering**"
   ]
  },
  {
   "cell_type": "code",
   "execution_count": 101,
   "metadata": {
    "id": "22QN-7Okx3U0"
   },
   "outputs": [],
   "source": [
    "def feature_egg(df):\n",
    "  label_encoder = LabelEncoder()\n",
    "  df[\"country\"] = label_encoder.fit_transform(df[\"country\"])\n",
    "  df[\"review\"] = df[\"review_title\"]+df[\"review_description\"]\n",
    "  df.drop([\"review_title\", \"review_description\"], axis=1, inplace=True)\n",
    "\n",
    "  def category(points):\n",
    "    if points == 80 and points < 83:\n",
    "        return 0\n",
    "    elif points == 83 and points < 87:\n",
    "        return 1\n",
    "    elif points == 87 and points < 90:\n",
    "        return 2\n",
    "    elif points == 90 and points < 94:\n",
    "        return 3\n",
    "    elif points == 94 and points < 98:\n",
    "        return 4\n",
    "    else:\n",
    "        return 5\n",
    "\n",
    "  df[\"rating\"] = df[\"points\"].apply(category)\n",
    "  df.drop([\"points\"], axis=1, inplace=True)\n",
    "\n",
    "  return df\n",
    "\n",
    "df = feature_egg(df)\n"
   ]
  },
  {
   "cell_type": "markdown",
   "metadata": {
    "id": "eMVN823sOhjQ"
   },
   "source": [
    "### **Preprocessing the data**"
   ]
  },
  {
   "cell_type": "code",
   "execution_count": 89,
   "metadata": {
    "id": "8UeFpPGzO4gd"
   },
   "outputs": [],
   "source": [
    "# Preprocess the data\n",
    "text_data = df['review'].values\n",
    "ratings = df['rating'].values\n",
    "prices = df['price'].values\n",
    "countries = df['country'].values\n",
    "labels = df['variety'].values\n",
    "\n",
    "# Encode the labels\n",
    "label_encoder = LabelEncoder()\n",
    "encoded_labels = label_encoder.fit_transform(labels)"
   ]
  },
  {
   "cell_type": "code",
   "execution_count": 86,
   "metadata": {
    "id": "Hm_LFJb5O7_A"
   },
   "outputs": [],
   "source": [
    "# Split the dataset into train and test sets\n",
    "X_text_train, X_text_test, X_rating_train, X_rating_test, X_price_train, X_price_test, X_country_train, X_country_test, y_train, y_test = train_test_split(\n",
    "    text_data, ratings, prices, countries, encoded_labels, test_size=0.2, random_state=42\n",
    ")"
   ]
  },
  {
   "cell_type": "code",
   "execution_count": 87,
   "metadata": {
    "id": "cAqY8e32O_4v"
   },
   "outputs": [],
   "source": [
    "# Tokenize the text data\n",
    "tokenizer = Tokenizer()\n",
    "tokenizer.fit_on_texts(X_text_train)"
   ]
  },
  {
   "cell_type": "code",
   "execution_count": 27,
   "metadata": {
    "id": "pLqkTZ-zPkce"
   },
   "outputs": [],
   "source": [
    "# Convert text data to sequences\n",
    "X_text_train_sequences = tokenizer.texts_to_sequences(X_text_train)\n",
    "X_text_test_sequences = tokenizer.texts_to_sequences(X_text_test)"
   ]
  },
  {
   "cell_type": "code",
   "execution_count": 29,
   "metadata": {
    "id": "tSv_ieHYPnqv"
   },
   "outputs": [],
   "source": [
    "# Pad sequences to a fixed length\n",
    "max_sequence_length = 400\n",
    "X_text_train_padded = pad_sequences(X_text_train_sequences, maxlen=max_sequence_length)\n",
    "X_text_test_padded = pad_sequences(X_text_test_sequences, maxlen=max_sequence_length)"
   ]
  },
  {
   "cell_type": "code",
   "execution_count": 30,
   "metadata": {
    "id": "0UFVcXyqPqMS"
   },
   "outputs": [],
   "source": [
    "# Build the model\n",
    "vocab_size = len(tokenizer.word_index) + 1\n",
    "embedding_dim = 400\n",
    "\n",
    "# Text input branch\n",
    "text_input = Input(shape=(max_sequence_length,))\n",
    "embedding_layer = Embedding(vocab_size, embedding_dim, input_length=max_sequence_length)(text_input)\n",
    "lstm_layer = LSTM(400)(embedding_layer)"
   ]
  },
  {
   "cell_type": "code",
   "execution_count": 31,
   "metadata": {
    "id": "5c1zsNovPyis"
   },
   "outputs": [],
   "source": [
    "# Scale numerical features\n",
    "scaler = MinMaxScaler()\n",
    "X_rating_train_scaled = scaler.fit_transform(X_rating_train.reshape(-1, 1))\n",
    "X_rating_test_scaled = scaler.transform(X_rating_test.reshape(-1, 1))\n",
    "X_price_train_scaled = scaler.fit_transform(X_price_train.reshape(-1, 1))\n",
    "X_price_test_scaled = scaler.transform(X_price_test.reshape(-1, 1))\n",
    "X_country_train_scaled = scaler.fit_transform(X_country_train.reshape(-1, 1))\n",
    "X_country_test_scaled = scaler.transform(X_country_test.reshape(-1, 1))"
   ]
  },
  {
   "cell_type": "code",
   "execution_count": 32,
   "metadata": {
    "id": "Wi8KB0DKP1cI"
   },
   "outputs": [],
   "source": [
    "# Numerical input branch\n",
    "rating_input = Input(shape=(1,))\n",
    "price_input = Input(shape=(1,))\n",
    "country_input = Input(shape=(1,))"
   ]
  },
  {
   "cell_type": "code",
   "execution_count": 33,
   "metadata": {
    "id": "aeA44zIIP3oa"
   },
   "outputs": [],
   "source": [
    "# Concatenate text and numerical inputs\n",
    "concatenated = concatenate([lstm_layer, rating_input, price_input, country_input])"
   ]
  },
  {
   "cell_type": "code",
   "execution_count": 46,
   "metadata": {
    "id": "Wy0wjMvWP6DC"
   },
   "outputs": [],
   "source": [
    "# Fully connected layers\n",
    "dense1 = Dense(64, activation='relu', kernel_regularizer=regularizers.l1(0.001))(concatenated)\n",
    "drop = Dropout(0.25)(dense1)\n",
    "dense2 = Dense(32, activation='relu')(drop)\n",
    "drop1 = Dropout(0.1)(dense2)\n",
    "output = Dense(len(label_encoder.classes_), activation='softmax')(drop1)"
   ]
  },
  {
   "cell_type": "code",
   "execution_count": 47,
   "metadata": {
    "id": "bKApJ1D_P8wv"
   },
   "outputs": [],
   "source": [
    "from keras.models import Sequential, Model\n",
    "# Create the model\n",
    "model = Model(inputs=[text_input, rating_input, price_input, country_input], outputs=output)\n",
    "\n",
    "# Compile the model\n",
    "model.compile(loss='sparse_categorical_crossentropy', optimizer='adam', metrics=['accuracy'])"
   ]
  },
  {
   "cell_type": "code",
   "execution_count": 48,
   "metadata": {
    "colab": {
     "base_uri": "https://localhost:8080/"
    },
    "id": "Avr6fXpTQDiw",
    "outputId": "3438135b-29bb-485d-ee28-25e5bdca179b"
   },
   "outputs": [
    {
     "name": "stdout",
     "output_type": "stream",
     "text": [
      "Epoch 1/10\n",
      "897/897 [==============================] - 115s 124ms/step - loss: 0.2810 - accuracy: 0.9352 - val_loss: 0.2213 - val_accuracy: 0.9571\n",
      "Epoch 2/10\n",
      "897/897 [==============================] - 94s 105ms/step - loss: 0.0723 - accuracy: 0.9842 - val_loss: 0.2351 - val_accuracy: 0.9564\n",
      "Epoch 3/10\n",
      "897/897 [==============================] - 95s 106ms/step - loss: 0.0419 - accuracy: 0.9906 - val_loss: 0.2543 - val_accuracy: 0.9583\n",
      "Epoch 4/10\n",
      "897/897 [==============================] - 95s 106ms/step - loss: 0.0405 - accuracy: 0.9912 - val_loss: 0.2579 - val_accuracy: 0.9626\n",
      "Epoch 5/10\n",
      "897/897 [==============================] - 95s 105ms/step - loss: 0.0197 - accuracy: 0.9957 - val_loss: 0.2542 - val_accuracy: 0.9629\n",
      "Epoch 6/10\n",
      "897/897 [==============================] - 94s 105ms/step - loss: 0.0202 - accuracy: 0.9955 - val_loss: 0.2394 - val_accuracy: 0.9615\n",
      "Epoch 7/10\n",
      "897/897 [==============================] - 98s 109ms/step - loss: 0.0145 - accuracy: 0.9970 - val_loss: 0.3008 - val_accuracy: 0.9651\n",
      "Epoch 8/10\n",
      "897/897 [==============================] - 94s 105ms/step - loss: 0.0106 - accuracy: 0.9978 - val_loss: 0.3694 - val_accuracy: 0.9637\n",
      "Epoch 9/10\n",
      "897/897 [==============================] - 98s 109ms/step - loss: 0.0124 - accuracy: 0.9970 - val_loss: 0.3149 - val_accuracy: 0.9619\n",
      "Epoch 10/10\n",
      "897/897 [==============================] - 98s 109ms/step - loss: 0.0119 - accuracy: 0.9975 - val_loss: 0.2660 - val_accuracy: 0.9651\n"
     ]
    },
    {
     "data": {
      "text/plain": [
       "<keras.callbacks.History at 0x7fb6ce1122f0>"
      ]
     },
     "execution_count": 48,
     "metadata": {},
     "output_type": "execute_result"
    }
   ],
   "source": [
    "epochs = 10\n",
    "batch_size = 64\n",
    "model.fit([X_text_train_padded, X_rating_train_scaled, X_price_train_scaled, X_country_train_scaled], y_train,\n",
    "          epochs=epochs, batch_size=batch_size, validation_data=([X_text_test_padded, X_rating_test_scaled, X_price_test_scaled, X_country_test_scaled], y_test))"
   ]
  },
  {
   "cell_type": "code",
   "execution_count": 49,
   "metadata": {
    "colab": {
     "base_uri": "https://localhost:8080/"
    },
    "id": "9zv_NQSBQJZt",
    "outputId": "6a762aa7-88d9-416d-e9b2-4c6c2d8b2366"
   },
   "outputs": [
    {
     "name": "stdout",
     "output_type": "stream",
     "text": [
      "Loss: 0.2660\n",
      "Accuracy: 0.9651\n"
     ]
    }
   ],
   "source": [
    "loss, accuracy = model.evaluate([X_text_test_padded, X_rating_test_scaled, X_price_test_scaled, X_country_test_scaled], y_test, verbose=0)\n",
    "print(f'Loss: {loss:.4f}')\n",
    "print(f'Accuracy: {accuracy:.4f}')"
   ]
  },
  {
   "cell_type": "markdown",
   "metadata": {
    "id": "ltMbQCR1hppR"
   },
   "source": [
    "# **Model Accuracy: 0.965**"
   ]
  },
  {
   "cell_type": "code",
   "execution_count": 51,
   "metadata": {
    "id": "QcLSiISOaxLB"
   },
   "outputs": [],
   "source": [
    "# Save the model\n",
    "model.save('model.h5')"
   ]
  },
  {
   "cell_type": "markdown",
   "metadata": {},
   "source": [
    "# <font color=\"Red\">=============Prediction on given dataset===============</font>"
   ]
  },
  {
   "cell_type": "markdown",
   "metadata": {
    "id": "yFf1XD1XPFvU"
   },
   "source": [
    "### **Preprocessing the data**"
   ]
  },
  {
   "cell_type": "code",
   "execution_count": 102,
   "metadata": {
    "id": "yPQHquaCx28J"
   },
   "outputs": [],
   "source": [
    "def preprocessing(df):\n",
    "  # Preprocess the data\n",
    "  text_test = df['review'].values\n",
    "  rating_test = df['rating'].values\n",
    "  price_test = df['price'].values\n",
    "  country_test = df['country'].values\n",
    "\n",
    "  # Tokenize the text data\n",
    "  tokenizer = Tokenizer()\n",
    "  tokenizer.fit_on_texts(text_test)\n",
    "  text_test_sequences = tokenizer.texts_to_sequences(text_test)\n",
    "\n",
    "  # Pad sequences to a fixed length\n",
    "  max_sequence_length = 400\n",
    "  text_test_padded = pad_sequences(text_test_sequences, maxlen=max_sequence_length)\n",
    "\n",
    "  # Scale numerical features\n",
    "  scaler = MinMaxScaler()\n",
    "\n",
    "  rating_test_scaled = scaler.fit_transform(rating_test.reshape(-1, 1))\n",
    "  price_test_scaled = scaler.fit_transform(price_test.reshape(-1, 1))\n",
    "  country_test_scaled = scaler.fit_transform(country_test.reshape(-1, 1))\n",
    "\n",
    "  return [text_test_padded, rating_test_scaled, price_test_scaled, country_test_scaled]\n",
    "\n"
   ]
  },
  {
   "cell_type": "markdown",
   "metadata": {
    "id": "q8B5e5-sPMaZ"
   },
   "source": [
    "### **Reading Data**"
   ]
  },
  {
   "cell_type": "code",
   "execution_count": null,
   "metadata": {
    "id": "MSDBEQ9FdNk0"
   },
   "outputs": [],
   "source": [
    "df = pd.read_csv(\"test.csv\")\n",
    "df = cleaning(df)\n",
    "df = feature_egg(df)\n",
    "preprocessing(df)"
   ]
  },
  {
   "cell_type": "code",
   "execution_count": 103,
   "metadata": {
    "colab": {
     "base_uri": "https://localhost:8080/"
    },
    "id": "RGcCMKkIx1rL",
    "outputId": "a3e22b50-a716-4958-b565-de2d9c9bac95"
   },
   "outputs": [
    {
     "name": "stdout",
     "output_type": "stream",
     "text": [
      "646/646 [==============================] - 12s 18ms/step\n",
      "Predicted Varieties:\n",
      "['White Blend' 'White Blend' 'Chardonnay' ... 'Pinot Noir'\n",
      " 'Sparkling Blend' 'Pinot Noir']\n"
     ]
    }
   ],
   "source": [
    "loaded_model = load_model('model.h5')\n",
    "data = preprocessing(df)\n",
    "predictions = loaded_model.predict(data)\n",
    "\n",
    "predicted_labels = label_encoder.inverse_transform(predictions.argmax(axis=1))\n",
    "\n",
    "\n",
    "print('Predicted Varieties:')\n",
    "print(predicted_labels)"
   ]
  },
  {
   "cell_type": "code",
   "execution_count": 112,
   "metadata": {
    "id": "QW9XbJ2lIx6-"
   },
   "outputs": [],
   "source": [
    "df['variety'] = predicted_labels\n",
    "df.to_csv(\"prediction.csv\", index=False)"
   ]
  }
 ],
 "metadata": {
  "accelerator": "GPU",
  "colab": {
   "gpuType": "T4",
   "provenance": []
  },
  "kernelspec": {
   "display_name": "Python 3 (ipykernel)",
   "language": "python",
   "name": "python3"
  },
  "language_info": {
   "codemirror_mode": {
    "name": "ipython",
    "version": 3
   },
   "file_extension": ".py",
   "mimetype": "text/x-python",
   "name": "python",
   "nbconvert_exporter": "python",
   "pygments_lexer": "ipython3",
   "version": "3.10.9"
  }
 },
 "nbformat": 4,
 "nbformat_minor": 1
}
